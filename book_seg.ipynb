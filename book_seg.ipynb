{
 "cells": [
  {
   "cell_type": "code",
   "execution_count": null,
   "metadata": {
    "pycharm": {
     "is_executing": true
    }
   },
   "outputs": [],
   "source": [
    "import cv2\n",
    "import numpy as np\n",
    "\n",
    "img = cv2.imread('spine1.png',0)\n",
    "kernel = np.ones((5,5),np.uint8)\n",
    "erosion = cv2.erode(img,kernel,iterations = 1)"
   ]
  }
 ],
 "metadata": {
  "interpreter": {
   "hash": "7482715dafb196bd13893baea435b218722df534bc682c7a38d30788ab233e52"
  },
  "kernelspec": {
   "display_name": "Python 3.8.12 64-bit ('book_seg': conda)",
   "language": "python",
   "name": "python3812jvsc74a57bd07482715dafb196bd13893baea435b218722df534bc682c7a38d30788ab233e52"
  },
  "language_info": {
   "codemirror_mode": {
    "name": "ipython",
    "version": 3
   },
   "file_extension": ".py",
   "mimetype": "text/x-python",
   "name": "python",
   "nbconvert_exporter": "python",
   "pygments_lexer": "ipython3",
   "version": "3.8.12"
  }
 },
 "nbformat": 4,
 "nbformat_minor": 2
}